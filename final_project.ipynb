{
 "cells": [
  {
   "cell_type": "markdown",
   "id": "fcc8d623-b331-48f6-b5fd-475ead0a5237",
   "metadata": {},
   "source": [
    "**THIS IS WHERE ALL THE FINAL CODE/WRITING GOES**"
   ]
  },
  {
   "cell_type": "code",
   "execution_count": null,
   "id": "74bf85dc-2b6e-424d-876c-b82dd2c4c8c5",
   "metadata": {},
   "outputs": [],
   "source": []
  }
 ],
 "metadata": {
  "kernelspec": {
   "display_name": "R",
   "language": "R",
   "name": "ir"
  },
  "language_info": {
   "codemirror_mode": "r",
   "file_extension": ".r",
   "mimetype": "text/x-r-source",
   "name": "R",
   "pygments_lexer": "r",
   "version": "4.3.3"
  }
 },
 "nbformat": 4,
 "nbformat_minor": 5
}
